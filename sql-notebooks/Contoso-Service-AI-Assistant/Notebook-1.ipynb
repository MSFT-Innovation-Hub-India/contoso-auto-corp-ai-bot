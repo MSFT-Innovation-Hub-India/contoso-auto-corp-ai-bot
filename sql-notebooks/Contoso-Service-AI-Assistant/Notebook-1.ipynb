{
    "cells": [
        {
            "cell_type": "code",
            "execution_count": null,
            "metadata": {
                "azdata_cell_guid": "f2fc2f94-bc29-4b29-a1c6-baacf45a8921",
                "language": "sql",
                "tags": [],
                "vscode": {
                    "languageId": "sql"
                }
            },
            "outputs": [],
            "source": [
                "%%sql\n",
                "declare @e vector(1536) \n",
                "\n",
                "exec dbo.get_embeddings @text = 'The customer was displeased with timely delivery of the vehicle', @embedding = @e output;\n",
                "\n",
                "select sf.feedback_text,   sf.rating_overall_experience, vector_distance('cosine', @e, sf.feedback_vector) as distance\n",
                "from\n",
                "    Service_Feedback sf\n",
                "where\n",
                "    vector_distance('cosine', @e, sf.feedback_vector) < 0.5 and sf.rating_overall_experience <=3\n",
                "order by\n",
                "    distance"
            ]
        }
    ],
    "metadata": {
        "kernelspec": {
            "display_name": ".venv",
            "language": "python",
            "name": "python3"
        },
        "language_info": {
            "codemirror_mode": {
                "name": "ipython",
                "version": 3
            },
            "file_extension": ".py",
            "mimetype": "text/x-python",
            "name": "python",
            "nbconvert_exporter": "python",
            "pygments_lexer": "ipython3",
            "version": "3.12.8"
        }
    },
    "nbformat": 4,
    "nbformat_minor": 2
}
